{
 "cells": [
  {
   "cell_type": "markdown",
   "metadata": {},
   "source": [
    "# Introduction"
   ]
  },
  {
   "cell_type": "markdown",
   "metadata": {},
   "source": [
    "## Business Problem :\n",
    "A Telecom industry want to segment their customers to provide better services and offers according to user behaviour "
   ]
  },
  {
   "cell_type": "markdown",
   "metadata": {},
   "source": [
    "### Approach :\n",
    "we will solve this problem of segmenting customers through unsupervised technique called clustering"
   ]
  },
  {
   "cell_type": "markdown",
   "metadata": {},
   "source": [
    "#### Cluster Analysis:\n",
    "Cluster Analysis is the most prominent and widely used unsupervised machine learning Technique.The main theme of this technique is to group all the data that having similarities \n",
    "in the data ."
   ]
  },
  {
   "cell_type": "markdown",
   "metadata": {},
   "source": [
    "#### Application of Cluster Analysis :\n",
    "Grouping of data helps us to find out the hidden patterns in the data and gives us more insights about the data.it differeniates the data into different segments on the basis of homogenity.For example we can differentiate the segment of customers in a telecome industry and also we can differentiate the students in a class into different segments depending upon their grades .Here we will try to understand cluster analysis by an example \n"
   ]
  },
  {
   "cell_type": "markdown",
   "metadata": {},
   "source": [
    "#### Types of Cluster Analysis :\n",
    "Although there are many type of cluster algorithms techniques, let's only discuss the two most important and widely used techniques\n",
    "\n",
    "1) Hierarchical Clustering\n",
    "\n",
    "2) K-mean Clustering"
   ]
  },
  {
   "cell_type": "markdown",
   "metadata": {},
   "source": [
    "# Hierarchical Clustering :\n",
    "\n",
    "Hierarchical Clustering starts at point taking each observation as a cluster and combines two nearest observations as one cluster\n",
    "\n",
    "1) Assign each data point to its cluster.\n",
    "\n",
    "2) Find closest pair of cluster using euclidean distance and merge them in to single cluster.\n",
    "\n",
    "3) Calculate distance between two nearest clusters and combine until all items are clustered in to a single cluster."
   ]
  },
  {
   "cell_type": "code",
   "execution_count": 1,
   "metadata": {},
   "outputs": [],
   "source": [
    "#importing the necessary packages\n",
    "\n",
    "import os \n",
    "import pandas as pd\n",
    "import numpy as np\n",
    "import matplotlib.pyplot as plt"
   ]
  },
  {
   "cell_type": "code",
   "execution_count": 3,
   "metadata": {},
   "outputs": [],
   "source": [
    "os.chdir(\"C:\\\\Users\\\\Dell\\\\Desktop\")\n",
    "telco = pd.read_csv(\"Telco.csv\")"
   ]
  },
  {
   "cell_type": "code",
   "execution_count": 5,
   "metadata": {},
   "outputs": [
    {
     "data": {
      "text/plain": [
       "(1000, 5)"
      ]
     },
     "execution_count": 5,
     "metadata": {},
     "output_type": "execute_result"
    }
   ],
   "source": [
    "telco.shape"
   ]
  },
  {
   "cell_type": "code",
   "execution_count": 8,
   "metadata": {},
   "outputs": [
    {
     "data": {
      "text/html": [
       "<div>\n",
       "<style scoped>\n",
       "    .dataframe tbody tr th:only-of-type {\n",
       "        vertical-align: middle;\n",
       "    }\n",
       "\n",
       "    .dataframe tbody tr th {\n",
       "        vertical-align: top;\n",
       "    }\n",
       "\n",
       "    .dataframe thead th {\n",
       "        text-align: right;\n",
       "    }\n",
       "</style>\n",
       "<table border=\"1\" class=\"dataframe\">\n",
       "  <thead>\n",
       "    <tr style=\"text-align: right;\">\n",
       "      <th></th>\n",
       "      <th>Calls</th>\n",
       "      <th>Intern</th>\n",
       "      <th>Text</th>\n",
       "      <th>Data</th>\n",
       "      <th>Age</th>\n",
       "    </tr>\n",
       "  </thead>\n",
       "  <tbody>\n",
       "    <tr>\n",
       "      <th>0</th>\n",
       "      <td>1.12</td>\n",
       "      <td>0.19</td>\n",
       "      <td>23.92</td>\n",
       "      <td>0.18</td>\n",
       "      <td>60</td>\n",
       "    </tr>\n",
       "    <tr>\n",
       "      <th>1</th>\n",
       "      <td>1.08</td>\n",
       "      <td>0.22</td>\n",
       "      <td>17.76</td>\n",
       "      <td>0.23</td>\n",
       "      <td>54</td>\n",
       "    </tr>\n",
       "    <tr>\n",
       "      <th>2</th>\n",
       "      <td>3.54</td>\n",
       "      <td>0.26</td>\n",
       "      <td>289.79</td>\n",
       "      <td>1.99</td>\n",
       "      <td>34</td>\n",
       "    </tr>\n",
       "    <tr>\n",
       "      <th>3</th>\n",
       "      <td>1.09</td>\n",
       "      <td>0.21</td>\n",
       "      <td>19.15</td>\n",
       "      <td>0.21</td>\n",
       "      <td>61</td>\n",
       "    </tr>\n",
       "    <tr>\n",
       "      <th>4</th>\n",
       "      <td>1.04</td>\n",
       "      <td>0.24</td>\n",
       "      <td>20.33</td>\n",
       "      <td>0.20</td>\n",
       "      <td>56</td>\n",
       "    </tr>\n",
       "  </tbody>\n",
       "</table>\n",
       "</div>"
      ],
      "text/plain": [
       "   Calls  Intern    Text  Data  Age\n",
       "0   1.12    0.19   23.92  0.18   60\n",
       "1   1.08    0.22   17.76  0.23   54\n",
       "2   3.54    0.26  289.79  1.99   34\n",
       "3   1.09    0.21   19.15  0.21   61\n",
       "4   1.04    0.24   20.33  0.20   56"
      ]
     },
     "execution_count": 8,
     "metadata": {},
     "output_type": "execute_result"
    }
   ],
   "source": [
    "telco.head()"
   ]
  },
  {
   "cell_type": "code",
   "execution_count": 9,
   "metadata": {},
   "outputs": [],
   "source": [
    "# scaling the data\n",
    "telco_scaled = telco.apply(lambda x: (x - np.mean(x)) / np.std(x))"
   ]
  },
  {
   "cell_type": "code",
   "execution_count": 10,
   "metadata": {},
   "outputs": [
    {
     "data": {
      "text/html": [
       "<div>\n",
       "<style scoped>\n",
       "    .dataframe tbody tr th:only-of-type {\n",
       "        vertical-align: middle;\n",
       "    }\n",
       "\n",
       "    .dataframe tbody tr th {\n",
       "        vertical-align: top;\n",
       "    }\n",
       "\n",
       "    .dataframe thead th {\n",
       "        text-align: right;\n",
       "    }\n",
       "</style>\n",
       "<table border=\"1\" class=\"dataframe\">\n",
       "  <thead>\n",
       "    <tr style=\"text-align: right;\">\n",
       "      <th></th>\n",
       "      <th>Calls</th>\n",
       "      <th>Intern</th>\n",
       "      <th>Text</th>\n",
       "      <th>Data</th>\n",
       "      <th>Age</th>\n",
       "    </tr>\n",
       "  </thead>\n",
       "  <tbody>\n",
       "    <tr>\n",
       "      <th>0</th>\n",
       "      <td>-0.996125</td>\n",
       "      <td>-0.569290</td>\n",
       "      <td>-0.940982</td>\n",
       "      <td>-1.299162</td>\n",
       "      <td>1.372936</td>\n",
       "    </tr>\n",
       "    <tr>\n",
       "      <th>1</th>\n",
       "      <td>-1.022513</td>\n",
       "      <td>-0.489795</td>\n",
       "      <td>-0.969806</td>\n",
       "      <td>-1.262765</td>\n",
       "      <td>1.002273</td>\n",
       "    </tr>\n",
       "    <tr>\n",
       "      <th>2</th>\n",
       "      <td>0.600387</td>\n",
       "      <td>-0.383802</td>\n",
       "      <td>0.303060</td>\n",
       "      <td>0.018380</td>\n",
       "      <td>-0.233271</td>\n",
       "    </tr>\n",
       "    <tr>\n",
       "      <th>3</th>\n",
       "      <td>-1.015916</td>\n",
       "      <td>-0.516293</td>\n",
       "      <td>-0.963302</td>\n",
       "      <td>-1.277324</td>\n",
       "      <td>1.434713</td>\n",
       "    </tr>\n",
       "    <tr>\n",
       "      <th>4</th>\n",
       "      <td>-1.048902</td>\n",
       "      <td>-0.436798</td>\n",
       "      <td>-0.957780</td>\n",
       "      <td>-1.284603</td>\n",
       "      <td>1.125827</td>\n",
       "    </tr>\n",
       "  </tbody>\n",
       "</table>\n",
       "</div>"
      ],
      "text/plain": [
       "      Calls    Intern      Text      Data       Age\n",
       "0 -0.996125 -0.569290 -0.940982 -1.299162  1.372936\n",
       "1 -1.022513 -0.489795 -0.969806 -1.262765  1.002273\n",
       "2  0.600387 -0.383802  0.303060  0.018380 -0.233271\n",
       "3 -1.015916 -0.516293 -0.963302 -1.277324  1.434713\n",
       "4 -1.048902 -0.436798 -0.957780 -1.284603  1.125827"
      ]
     },
     "execution_count": 10,
     "metadata": {},
     "output_type": "execute_result"
    }
   ],
   "source": [
    "telco_scaled.head()"
   ]
  },
  {
   "cell_type": "code",
   "execution_count": 11,
   "metadata": {},
   "outputs": [],
   "source": [
    "import scipy\n",
    "from scipy.cluster.hierarchy import dendrogram, linkage"
   ]
  },
  {
   "cell_type": "markdown",
   "metadata": {},
   "source": [
    "reference  https://docs.scipy.org/doc/scipy-0.14.0/reference/generated/scipy.cluster.hierarchy.dendrogram.html"
   ]
  },
  {
   "cell_type": "code",
   "execution_count": 12,
   "metadata": {},
   "outputs": [],
   "source": [
    "Z = linkage(telco_scaled, 'complete')"
   ]
  },
  {
   "cell_type": "code",
   "execution_count": 13,
   "metadata": {},
   "outputs": [
    {
     "data": {
      "image/png": "[encoded data removed]",
      "text/plain": [
       "<Figure size 432x288 with 1 Axes>"
      ]
     },
     "metadata": {
      "needs_background": "light"
     },
     "output_type": "display_data"
    }
   ],
   "source": [
    "dendrogram(Z,leaf_rotation=90, leaf_font_size=15.)\n",
    "plt.title(\"Dendrogram\")\n",
    "plt.xlabel('Cluster Size')\n",
    "plt.ylabel('Distance')\n",
    "\n",
    "plt.show()"
   ]
  },
  {
   "cell_type": "code",
   "execution_count": 14,
   "metadata": {},
   "outputs": [
    {
     "data": {
      "image/png": "[encoded data removed]",
      "text/plain": [
       "<Figure size 432x288 with 1 Axes>"
      ]
     },
     "metadata": {
      "needs_background": "light"
     },
     "output_type": "display_data"
    }
   ],
   "source": [
    "dendrogram(Z,truncate_mode='lastp',p=30,leaf_rotation=90, leaf_font_size=15.)\n",
    "plt.title(\"Truncated Dendrogram\")\n",
    "plt.xlabel('Cluster Size')\n",
    "plt.ylabel('Distance')\n",
    "\n",
    "plt.show()"
   ]
  },
  {
   "cell_type": "markdown",
   "metadata": {},
   "source": [
    "## Agglomerative Hierarchical Clustering"
   ]
  },
  {
   "cell_type": "code",
   "execution_count": 15,
   "metadata": {},
   "outputs": [],
   "source": [
    "import sklearn\n",
    "from sklearn.cluster import AgglomerativeClustering"
   ]
  },
  {
   "cell_type": "code",
   "execution_count": 16,
   "metadata": {},
   "outputs": [],
   "source": [
    "hclust = AgglomerativeClustering(n_clusters=5, affinity='euclidean', linkage='complete')"
   ]
  },
  {
   "cell_type": "code",
   "execution_count": 17,
   "metadata": {},
   "outputs": [
    {
     "data": {
      "text/plain": [
       "AgglomerativeClustering(affinity='euclidean', compute_full_tree='auto',\n",
       "                        connectivity=None, distance_threshold=None,\n",
       "                        linkage='complete', memory=None, n_clusters=5)"
      ]
     },
     "execution_count": 17,
     "metadata": {},
     "output_type": "execute_result"
    }
   ],
   "source": [
    "hclust.fit(telco_scaled)"
   ]
  },
  {
   "cell_type": "code",
   "execution_count": 18,
   "metadata": {},
   "outputs": [],
   "source": [
    "telco['Groups'] = hclust.labels_"
   ]
  },
  {
   "cell_type": "code",
   "execution_count": 19,
   "metadata": {},
   "outputs": [
    {
     "data": {
      "text/html": [
       "<div>\n",
       "<style scoped>\n",
       "    .dataframe tbody tr th:only-of-type {\n",
       "        vertical-align: middle;\n",
       "    }\n",
       "\n",
       "    .dataframe tbody tr th {\n",
       "        vertical-align: top;\n",
       "    }\n",
       "\n",
       "    .dataframe thead th {\n",
       "        text-align: right;\n",
       "    }\n",
       "</style>\n",
       "<table border=\"1\" class=\"dataframe\">\n",
       "  <thead>\n",
       "    <tr style=\"text-align: right;\">\n",
       "      <th></th>\n",
       "      <th>Calls</th>\n",
       "      <th>Intern</th>\n",
       "      <th>Text</th>\n",
       "      <th>Data</th>\n",
       "      <th>Age</th>\n",
       "      <th>Groups</th>\n",
       "    </tr>\n",
       "  </thead>\n",
       "  <tbody>\n",
       "    <tr>\n",
       "      <th>0</th>\n",
       "      <td>1.12</td>\n",
       "      <td>0.19</td>\n",
       "      <td>23.92</td>\n",
       "      <td>0.18</td>\n",
       "      <td>60</td>\n",
       "      <td>3</td>\n",
       "    </tr>\n",
       "    <tr>\n",
       "      <th>1</th>\n",
       "      <td>1.08</td>\n",
       "      <td>0.22</td>\n",
       "      <td>17.76</td>\n",
       "      <td>0.23</td>\n",
       "      <td>54</td>\n",
       "      <td>3</td>\n",
       "    </tr>\n",
       "    <tr>\n",
       "      <th>2</th>\n",
       "      <td>3.54</td>\n",
       "      <td>0.26</td>\n",
       "      <td>289.79</td>\n",
       "      <td>1.99</td>\n",
       "      <td>34</td>\n",
       "      <td>4</td>\n",
       "    </tr>\n",
       "    <tr>\n",
       "      <th>3</th>\n",
       "      <td>1.09</td>\n",
       "      <td>0.21</td>\n",
       "      <td>19.15</td>\n",
       "      <td>0.21</td>\n",
       "      <td>61</td>\n",
       "      <td>3</td>\n",
       "    </tr>\n",
       "    <tr>\n",
       "      <th>4</th>\n",
       "      <td>1.04</td>\n",
       "      <td>0.24</td>\n",
       "      <td>20.33</td>\n",
       "      <td>0.20</td>\n",
       "      <td>56</td>\n",
       "      <td>3</td>\n",
       "    </tr>\n",
       "    <tr>\n",
       "      <th>5</th>\n",
       "      <td>5.59</td>\n",
       "      <td>0.88</td>\n",
       "      <td>19.23</td>\n",
       "      <td>2.02</td>\n",
       "      <td>41</td>\n",
       "      <td>0</td>\n",
       "    </tr>\n",
       "    <tr>\n",
       "      <th>6</th>\n",
       "      <td>1.19</td>\n",
       "      <td>0.19</td>\n",
       "      <td>17.94</td>\n",
       "      <td>0.24</td>\n",
       "      <td>71</td>\n",
       "      <td>3</td>\n",
       "    </tr>\n",
       "    <tr>\n",
       "      <th>7</th>\n",
       "      <td>3.07</td>\n",
       "      <td>0.34</td>\n",
       "      <td>359.49</td>\n",
       "      <td>2.06</td>\n",
       "      <td>30</td>\n",
       "      <td>4</td>\n",
       "    </tr>\n",
       "    <tr>\n",
       "      <th>8</th>\n",
       "      <td>5.34</td>\n",
       "      <td>0.99</td>\n",
       "      <td>295.47</td>\n",
       "      <td>0.97</td>\n",
       "      <td>41</td>\n",
       "      <td>0</td>\n",
       "    </tr>\n",
       "    <tr>\n",
       "      <th>9</th>\n",
       "      <td>2.43</td>\n",
       "      <td>0.09</td>\n",
       "      <td>17.57</td>\n",
       "      <td>0.46</td>\n",
       "      <td>33</td>\n",
       "      <td>4</td>\n",
       "    </tr>\n",
       "  </tbody>\n",
       "</table>\n",
       "</div>"
      ],
      "text/plain": [
       "   Calls  Intern    Text  Data  Age  Groups\n",
       "0   1.12    0.19   23.92  0.18   60       3\n",
       "1   1.08    0.22   17.76  0.23   54       3\n",
       "2   3.54    0.26  289.79  1.99   34       4\n",
       "3   1.09    0.21   19.15  0.21   61       3\n",
       "4   1.04    0.24   20.33  0.20   56       3\n",
       "5   5.59    0.88   19.23  2.02   41       0\n",
       "6   1.19    0.19   17.94  0.24   71       3\n",
       "7   3.07    0.34  359.49  2.06   30       4\n",
       "8   5.34    0.99  295.47  0.97   41       0\n",
       "9   2.43    0.09   17.57  0.46   33       4"
      ]
     },
     "execution_count": 19,
     "metadata": {},
     "output_type": "execute_result"
    }
   ],
   "source": [
    "telco.head(10)"
   ]
  },
  {
   "cell_type": "code",
   "execution_count": 20,
   "metadata": {},
   "outputs": [
    {
     "data": {
      "text/html": [
       "<div>\n",
       "<style scoped>\n",
       "    .dataframe tbody tr th:only-of-type {\n",
       "        vertical-align: middle;\n",
       "    }\n",
       "\n",
       "    .dataframe tbody tr th {\n",
       "        vertical-align: top;\n",
       "    }\n",
       "\n",
       "    .dataframe thead th {\n",
       "        text-align: right;\n",
       "    }\n",
       "</style>\n",
       "<table border=\"1\" class=\"dataframe\">\n",
       "  <thead>\n",
       "    <tr style=\"text-align: right;\">\n",
       "      <th></th>\n",
       "      <th>Calls</th>\n",
       "      <th>Intern</th>\n",
       "      <th>Text</th>\n",
       "      <th>Data</th>\n",
       "      <th>Age</th>\n",
       "    </tr>\n",
       "    <tr>\n",
       "      <th>Groups</th>\n",
       "      <th></th>\n",
       "      <th></th>\n",
       "      <th></th>\n",
       "      <th></th>\n",
       "      <th></th>\n",
       "    </tr>\n",
       "  </thead>\n",
       "  <tbody>\n",
       "    <tr>\n",
       "      <th>0</th>\n",
       "      <td>4.472227</td>\n",
       "      <td>1.010486</td>\n",
       "      <td>82.832146</td>\n",
       "      <td>2.009190</td>\n",
       "      <td>43.149798</td>\n",
       "    </tr>\n",
       "    <tr>\n",
       "      <th>1</th>\n",
       "      <td>4.700400</td>\n",
       "      <td>0.432400</td>\n",
       "      <td>376.350800</td>\n",
       "      <td>1.545600</td>\n",
       "      <td>46.120000</td>\n",
       "    </tr>\n",
       "    <tr>\n",
       "      <th>2</th>\n",
       "      <td>1.763410</td>\n",
       "      <td>0.131456</td>\n",
       "      <td>507.732146</td>\n",
       "      <td>3.731073</td>\n",
       "      <td>19.003831</td>\n",
       "    </tr>\n",
       "    <tr>\n",
       "      <th>3</th>\n",
       "      <td>1.068846</td>\n",
       "      <td>0.238702</td>\n",
       "      <td>45.874567</td>\n",
       "      <td>0.355288</td>\n",
       "      <td>60.610577</td>\n",
       "    </tr>\n",
       "    <tr>\n",
       "      <th>4</th>\n",
       "      <td>2.800039</td>\n",
       "      <td>0.233514</td>\n",
       "      <td>204.993282</td>\n",
       "      <td>1.475405</td>\n",
       "      <td>32.424710</td>\n",
       "    </tr>\n",
       "  </tbody>\n",
       "</table>\n",
       "</div>"
      ],
      "text/plain": [
       "           Calls    Intern        Text      Data        Age\n",
       "Groups                                                     \n",
       "0       4.472227  1.010486   82.832146  2.009190  43.149798\n",
       "1       4.700400  0.432400  376.350800  1.545600  46.120000\n",
       "2       1.763410  0.131456  507.732146  3.731073  19.003831\n",
       "3       1.068846  0.238702   45.874567  0.355288  60.610577\n",
       "4       2.800039  0.233514  204.993282  1.475405  32.424710"
      ]
     },
     "execution_count": 20,
     "metadata": {},
     "output_type": "execute_result"
    }
   ],
   "source": [
    "telco.groupby(['Groups']).mean()"
   ]
  },
  {
   "cell_type": "markdown",
   "metadata": {},
   "source": [
    "# K-Means Clustering"
   ]
  },
  {
   "cell_type": "markdown",
   "metadata": {},
   "source": [
    "1) You’ll define a target number k, which refers to the number of centroids you need in the dataset. A centroid is the imaginary or real location representing the center of the cluster.\n",
    "\n",
    "2) Now, using the euclidean distance between data points and centroids, assign each data point to the cluster which is close to it.\n",
    "\n",
    "3) Recalculate the cluster centers as a mean of data points assigned to it.\n",
    "\n",
    "4) Repeat 2 and 3 until no further changes occur."
   ]
  },
  {
   "cell_type": "code",
   "execution_count": 21,
   "metadata": {},
   "outputs": [],
   "source": [
    "from sklearn.cluster import KMeans"
   ]
  },
  {
   "cell_type": "code",
   "execution_count": 22,
   "metadata": {},
   "outputs": [],
   "source": [
    "km = KMeans(n_clusters=5,n_init=40)"
   ]
  },
  {
   "cell_type": "code",
   "execution_count": 23,
   "metadata": {},
   "outputs": [
    {
     "data": {
      "text/plain": [
       "KMeans(algorithm='auto', copy_x=True, init='k-means++', max_iter=300,\n",
       "       n_clusters=5, n_init=40, n_jobs=None, precompute_distances='auto',\n",
       "       random_state=None, tol=0.0001, verbose=0)"
      ]
     },
     "execution_count": 23,
     "metadata": {},
     "output_type": "execute_result"
    }
   ],
   "source": [
    "km.fit(telco_scaled)"
   ]
  },
  {
   "cell_type": "code",
   "execution_count": 24,
   "metadata": {},
   "outputs": [
    {
     "data": {
      "text/plain": [
       "array([0, 0, 1, 0, 0, 3, 0, 1, 3, 4, 3, 0, 0, 2, 3, 1, 1, 2, 3, 2, 2, 4,\n",
       "       2, 2, 1, 1, 0, 3, 3, 3, 2, 3, 2, 0, 0, 1, 0, 0, 3, 3, 3, 1, 0, 1,\n",
       "       3, 4, 0, 0, 3, 3, 0, 4, 2, 4, 3, 3, 3, 2, 2, 3, 2, 2, 4, 1, 1, 2,\n",
       "       2, 3, 1, 0, 3, 0, 3, 3, 3, 4, 1, 2, 1, 1, 1, 2, 3, 1, 3, 1, 2, 0,\n",
       "       3, 3, 4, 0, 4, 4, 3, 2, 2, 1, 2, 2, 0, 0, 1, 2, 3, 4, 1, 0, 1, 0,\n",
       "       0, 1, 1, 3, 0, 0, 2, 0, 4, 2, 0, 3, 1, 4, 0, 3, 3, 3, 0, 1, 1, 2,\n",
       "       1, 0, 1, 0, 1, 2, 0, 0, 1, 3, 1, 0, 1, 4, 2, 1, 3, 3, 2, 2, 1, 2,\n",
       "       1, 4, 3, 1, 2, 2, 4, 4, 3, 3, 4, 1, 2, 1, 3, 1, 3, 0, 3, 3, 2, 0,\n",
       "       1, 0, 3, 2, 1, 2, 2, 1, 1, 3, 3, 1, 3, 2, 2, 4, 0, 1, 1, 3, 0, 2,\n",
       "       3, 2, 2, 1, 0, 2, 1, 2, 1, 1, 0, 0, 1, 0, 3, 2, 4, 1, 1, 2, 3, 1,\n",
       "       0, 1, 4, 4, 1, 1, 3, 1, 3, 1, 2, 1, 2, 3, 2, 0, 0, 1, 3, 1, 1, 2,\n",
       "       2, 1, 2, 2, 2, 0, 3, 2, 2, 3, 0, 0, 0, 2, 3, 4, 3, 0, 4, 2, 3, 2,\n",
       "       2, 0, 3, 0, 2, 2, 1, 1, 2, 3, 0, 0, 3, 3, 2, 2, 1, 3, 1, 3, 2, 3,\n",
       "       2, 3, 1, 0, 2, 2, 1, 2, 0, 0, 3, 2, 2, 1, 3, 1, 4, 0, 0, 2, 2, 3,\n",
       "       3, 4, 2, 4, 1, 0, 1, 0, 3, 1, 2, 4, 2, 1, 3, 0, 3, 3, 2, 0, 0, 0,\n",
       "       0, 0, 1, 2, 1, 1, 1, 3, 3, 2, 2, 0, 2, 3, 2, 3, 2, 2, 1, 4, 3, 0,\n",
       "       2, 3, 2, 0, 4, 0, 4, 2, 0, 2, 3, 2, 2, 2, 4, 1, 2, 0, 1, 0, 1, 2,\n",
       "       3, 4, 1, 2, 3, 2, 2, 2, 0, 1, 3, 0, 1, 0, 2, 2, 2, 2, 2, 1, 3, 0,\n",
       "       2, 2, 2, 2, 0, 0, 2, 1, 2, 3, 0, 4, 2, 0, 0, 0, 1, 0, 3, 3, 4, 2,\n",
       "       2, 1, 4, 0, 0, 3, 0, 3, 2, 2, 1, 2, 2, 0, 0, 2, 0, 1, 0, 1, 2, 0,\n",
       "       1, 3, 0, 4, 0, 0, 2, 0, 0, 0, 0, 3, 1, 2, 1, 2, 3, 2, 0, 1, 2, 3,\n",
       "       2, 3, 4, 0, 4, 4, 0, 2, 4, 2, 1, 1, 3, 1, 4, 2, 1, 4, 1, 2, 4, 0,\n",
       "       0, 2, 2, 2, 3, 2, 0, 3, 0, 1, 1, 2, 0, 2, 1, 1, 1, 1, 1, 1, 4, 0,\n",
       "       3, 2, 4, 3, 2, 3, 1, 1, 3, 1, 0, 3, 0, 3, 1, 0, 2, 1, 0, 2, 0, 2,\n",
       "       1, 2, 1, 3, 2, 3, 4, 0, 3, 2, 1, 2, 2, 3, 0, 2, 3, 1, 3, 1, 2, 3,\n",
       "       1, 2, 0, 3, 1, 1, 4, 0, 1, 1, 2, 4, 3, 4, 1, 4, 3, 0, 2, 1, 2, 2,\n",
       "       2, 1, 1, 0, 1, 0, 1, 1, 1, 0, 1, 4, 0, 2, 2, 4, 3, 0, 3, 2, 3, 2,\n",
       "       3, 1, 3, 2, 2, 3, 3, 2, 3, 1, 2, 4, 2, 3, 0, 1, 2, 3, 1, 0, 2, 0,\n",
       "       1, 3, 0, 4, 3, 3, 0, 2, 2, 3, 3, 2, 2, 0, 3, 0, 1, 3, 1, 1, 1, 3,\n",
       "       1, 0, 0, 0, 0, 0, 2, 4, 3, 2, 3, 1, 2, 3, 4, 2, 3, 3, 1, 4, 1, 2,\n",
       "       0, 1, 0, 3, 2, 0, 2, 1, 1, 0, 3, 2, 1, 4, 1, 2, 1, 2, 2, 1, 1, 2,\n",
       "       3, 2, 3, 3, 2, 3, 0, 2, 0, 1, 3, 3, 2, 1, 0, 1, 3, 4, 3, 1, 0, 1,\n",
       "       0, 2, 2, 3, 2, 2, 2, 3, 2, 4, 2, 1, 3, 2, 1, 3, 0, 1, 4, 2, 0, 1,\n",
       "       0, 4, 1, 1, 2, 4, 2, 2, 1, 0, 1, 3, 1, 3, 2, 3, 3, 4, 4, 1, 1, 1,\n",
       "       2, 0, 3, 4, 3, 0, 1, 1, 3, 3, 3, 2, 1, 0, 1, 3, 1, 3, 0, 2, 2, 3,\n",
       "       0, 3, 0, 1, 0, 2, 2, 0, 0, 1, 1, 3, 1, 0, 1, 1, 4, 1, 1, 2, 0, 3,\n",
       "       3, 2, 3, 1, 4, 1, 2, 1, 4, 4, 1, 2, 4, 3, 1, 4, 1, 1, 4, 2, 0, 2,\n",
       "       4, 1, 2, 1, 0, 4, 3, 2, 1, 2, 1, 3, 0, 1, 0, 2, 4, 1, 1, 3, 2, 2,\n",
       "       4, 2, 1, 2, 0, 2, 1, 4, 4, 0, 2, 2, 2, 0, 0, 1, 3, 3, 1, 4, 2, 1,\n",
       "       4, 2, 4, 0, 1, 0, 3, 0, 3, 4, 2, 0, 2, 0, 1, 3, 0, 2, 4, 1, 0, 1,\n",
       "       2, 2, 2, 1, 2, 4, 2, 3, 1, 3, 4, 3, 0, 3, 3, 2, 0, 2, 0, 0, 1, 0,\n",
       "       1, 1, 0, 3, 0, 3, 1, 2, 0, 0, 3, 0, 1, 1, 4, 1, 1, 3, 2, 0, 3, 0,\n",
       "       2, 1, 0, 2, 3, 2, 0, 3, 3, 3, 0, 3, 1, 1, 2, 0, 3, 1, 1, 0, 2, 3,\n",
       "       4, 3, 0, 3, 2, 1, 1, 4, 2, 1, 1, 3, 2, 1, 1, 1, 4, 2, 1, 1, 1, 2,\n",
       "       3, 2, 2, 1, 1, 0, 3, 2, 1, 1, 3, 2, 0, 0, 3, 1, 2, 3, 1, 4, 4, 2,\n",
       "       2, 1, 3, 2, 2, 2, 0, 2, 1, 3])"
      ]
     },
     "execution_count": 24,
     "metadata": {},
     "output_type": "execute_result"
    }
   ],
   "source": [
    "#Cluster labels\n",
    "km.labels_"
   ]
  },
  {
   "cell_type": "code",
   "execution_count": 25,
   "metadata": {},
   "outputs": [
    {
     "data": {
      "text/plain": [
       "785.9517944329608"
      ]
     },
     "execution_count": 25,
     "metadata": {},
     "output_type": "execute_result"
    }
   ],
   "source": [
    "#Within Group SSE\n",
    "km.inertia_"
   ]
  },
  {
   "cell_type": "markdown",
   "metadata": {},
   "source": [
    "## Deciding on No.of Clusters"
   ]
  },
  {
   "cell_type": "markdown",
   "metadata": {},
   "source": [
    "-> The below method is also called elbow method which can be used to decide upon the no of clusters in cluster analysis "
   ]
  },
  {
   "cell_type": "code",
   "execution_count": 26,
   "metadata": {},
   "outputs": [
    {
     "data": {
      "image/png": "[encoded data removed]",
      "text/plain": [
       "<Figure size 432x288 with 1 Axes>"
      ]
     },
     "metadata": {
      "needs_background": "light"
     },
     "output_type": "display_data"
    }
   ],
   "source": [
    "from sklearn.cluster import KMeans\n",
    "wcss = []\n",
    "\n",
    "for i in range(1, 11):\n",
    "    kmeans = KMeans(n_clusters = i, init = 'k-means++', max_iter = 300, n_init = 10, random_state = 0)\n",
    "    kmeans.fit(telco_scaled)\n",
    "    wcss.append(kmeans.inertia_)\n",
    "    \n",
    "#Plotting the results onto a line graph, allowing us to observe 'The elbow'\n",
    "plt.plot(range(1, 11), wcss)\n",
    "plt.title('The elbow method')\n",
    "plt.xlabel('Number of clusters')\n",
    "plt.ylabel('WCSS') #within cluster sum of squares\n",
    "plt.show()\n"
   ]
  }
 ],
 "metadata": {
  "kernelspec": {
   "display_name": "Python 3",
   "language": "python",
   "name": "python3"
  },
  "language_info": {
   "codemirror_mode": {
    "name": "ipython",
    "version": 3
   },
   "file_extension": ".py",
   "mimetype": "text/x-python",
   "name": "python",
   "nbconvert_exporter": "python",
   "pygments_lexer": "ipython3",
   "version": "3.7.3"
  },
  "toc": {
   "base_numbering": 1,
   "nav_menu": {},
   "number_sections": true,
   "sideBar": true,
   "skip_h1_title": false,
   "title_cell": "Table of Contents",
   "title_sidebar": "Contents",
   "toc_cell": false,
   "toc_position": {
    "height": "calc(100% - 180px)",
    "left": "10px",
    "top": "150px",
    "width": "214.188px"
   },
   "toc_section_display": true,
   "toc_window_display": true
  }
 },
 "nbformat": 4,
 "nbformat_minor": 2
}
